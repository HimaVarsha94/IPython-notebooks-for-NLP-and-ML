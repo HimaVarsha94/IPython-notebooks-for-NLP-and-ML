{
 "cells": [
  {
   "cell_type": "code",
   "execution_count": null,
   "metadata": {
    "collapsed": true
   },
   "outputs": [],
   "source": [
    "from spacy.en import English\n",
    "from nltk import sent_tokenize\n",
    "import pandas as pd\n",
    "parser = English()\n"
   ]
  },
  {
   "cell_type": "code",
   "execution_count": null,
   "metadata": {
    "collapsed": false
   },
   "outputs": [],
   "source": [
    "df = pd.read_excel('/Users/himavarsha/Downloads/Yelp.com Coffee Shops Bay Area.xlsx','Data for SDP')"
   ]
  },
  {
   "cell_type": "code",
   "execution_count": null,
   "metadata": {
    "collapsed": true
   },
   "outputs": [],
   "source": [
    "list_sentences = []\n",
    "for ind, row in df.iterrows():\n",
    "    list_sentences = list_sentences + (sent_tokenize(row['Review']))"
   ]
  },
  {
   "cell_type": "code",
   "execution_count": null,
   "metadata": {
    "collapsed": false
   },
   "outputs": [],
   "source": [
    "dp = dict()\n",
    "dp_pairs = [\"dobj\",\"advcl\",\"ccomp\",\"nmod\",\"compound\", \"acl\", \"acomp\", \"csubj\", \"amod\"]"
   ]
  },
  {
   "cell_type": "code",
   "execution_count": null,
   "metadata": {
    "collapsed": false
   },
   "outputs": [],
   "source": [
    "import pdb\n",
    "import nltk\n",
    "stopwords = nltk.corpus.stopwords.words('english')\n",
    "for example in list_sentences:\n",
    "    parsedEx = parser(example)\n",
    "    # shown as: original token, dependency tag, head word, left dependents, right dependents\n",
    "    for token in parsedEx:\n",
    "        \n",
    "        if token.dep_ in dp_pairs and not(token.orth_.lower() in stopwords) and not(token.head.orth_.lower() in stopwords):\n",
    "            keyword = \"_\".join(sorted([token.orth_.lower(), token.head.orth_.lower()]))\n",
    "            print keyword\n",
    "            if keyword in dp:\n",
    "                dp[keyword] = dp[keyword] + 1\n",
    "            else:\n",
    "                dp[keyword] = 1\n",
    "#             print(token.orth_, token.dep_, token.head.orth_)"
   ]
  },
  {
   "cell_type": "code",
   "execution_count": null,
   "metadata": {
    "collapsed": false
   },
   "outputs": [],
   "source": [
    "with open('dependency_pairs_spacy_wo_stp_words.txt','wb') as f:\n",
    "    for key,value in dp.items():\n",
    "#         print \"1\"\n",
    "        print >> f, key,'\\t',value\n",
    "f.close()"
   ]
  },
  {
   "cell_type": "code",
   "execution_count": null,
   "metadata": {
    "collapsed": false
   },
   "outputs": [],
   "source": [
    "import nltk\n",
    "stopwords = nltk.corpus.stopwords.words('english')\n",
    "len(stopwords)"
   ]
  },
  {
   "cell_type": "code",
   "execution_count": null,
   "metadata": {
    "collapsed": true
   },
   "outputs": [],
   "source": []
  }
 ],
 "metadata": {
  "kernelspec": {
   "display_name": "Python 2",
   "language": "python",
   "name": "python2"
  },
  "language_info": {
   "codemirror_mode": {
    "name": "ipython",
    "version": 2
   },
   "file_extension": ".py",
   "mimetype": "text/x-python",
   "name": "python",
   "nbconvert_exporter": "python",
   "pygments_lexer": "ipython2",
   "version": "2.7.12"
  }
 },
 "nbformat": 4,
 "nbformat_minor": 2
}
