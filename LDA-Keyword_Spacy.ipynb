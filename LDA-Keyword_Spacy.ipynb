{
 "cells": [
  {
   "cell_type": "code",
   "execution_count": 1,
   "metadata": {
    "collapsed": false
   },
   "outputs": [
    {
     "name": "stderr",
     "output_type": "stream",
     "text": [
      "/Users/himavarsha/Envs/sklearn/lib/python2.7/site-packages/gensim/utils.py:1015: UserWarning: Pattern library is not installed, lemmatization won't be available.\n",
      "  warnings.warn(\"Pattern library is not installed, lemmatization won't be available.\")\n"
     ]
    }
   ],
   "source": [
    "from gensim import corpora, models, similarities\n",
    "from gensim.models import hdpmodel, ldamodel\n",
    "from itertools import izip\n",
    "from nltk.corpus import stopwords\n",
    "from pandas.core.series import Series\n",
    "import math\n",
    "import pdb\n",
    "from spacy.en import English\n",
    "from nltk import sent_tokenize\n",
    "import pandas as pd\n",
    "from nltk.stem.wordnet import WordNetLemmatizer\n",
    "from nltk.stem.porter import PorterStemmer\n",
    "parser = English()\n",
    "lmtzr = WordNetLemmatizer()\n",
    "porter = PorterStemmer() "
   ]
  },
  {
   "cell_type": "code",
   "execution_count": 2,
   "metadata": {
    "collapsed": false
   },
   "outputs": [],
   "source": [
    "documents = []\n",
    "with open('template_topic_modelling.txt','r') as f:\n",
    "    documents = f.read().splitlines()\n",
    "    "
   ]
  },
  {
   "cell_type": "code",
   "execution_count": 3,
   "metadata": {
    "collapsed": false
   },
   "outputs": [],
   "source": [
    "stoplist = stopwords.words(\"english\") + ['blackberry','it\\'s','i','a','an','is','my','to','it','the','oven']\n"
   ]
  },
  {
   "cell_type": "code",
   "execution_count": 4,
   "metadata": {
    "collapsed": false
   },
   "outputs": [],
   "source": [
    "import nltk\n",
    "texts = []\n",
    "dp_pairs = [\"dobj\",\"advcl\",\"ccomp\",\"nmod\",\"compound\", \"acl\", \"acomp\", \"csubj\", \"amod\"]\n",
    "freq_dict = dict()\n",
    "for example in documents:\n",
    "    sentences = nltk.sent_tokenize(example)\n",
    "    for sentence in sentences:\n",
    "        try:\n",
    "            parsedEx = parser(unicode(sentence))\n",
    "        except:\n",
    "            pdb.set_trace()\n",
    "        # shown as: original token, dependency tag, head word, left dependents, right dependents\n",
    "        for token in parsedEx:\n",
    "            if token.dep_ in dp_pairs and not(token.orth_.lower() in stoplist) and not(token.head.orth_.lower() in stoplist):\n",
    "                first = porter.stem(lmtzr.lemmatize(token.orth_.lower()))\n",
    "                second = porter.stem(lmtzr.lemmatize(token.head.orth_.lower()))\n",
    "                keyword = \"_\".join(sorted([first, second]))\n",
    "                if keyword in freq_dict.keys():\n",
    "                    freq_dict[keyword] = freq_dict[keyword] + 1\n",
    "                else:\n",
    "                    freq_dict[keyword] = 1\n",
    "    \n",
    "    \n",
    "# texts = [[wordnet_lemmatizer.lemmatize(word) for word in document.lower().split() if word not in stoplist] for document in documents]\n"
   ]
  },
  {
   "cell_type": "code",
   "execution_count": 5,
   "metadata": {
    "collapsed": true
   },
   "outputs": [],
   "source": [
    "\n",
    "for example in documents:\n",
    "    sentences = nltk.sent_tokenize(example)\n",
    "    test = []\n",
    "    for sentence in sentences:\n",
    "        try:\n",
    "            parsedEx = parser(unicode(sentence))\n",
    "        except:\n",
    "            pdb.set_trace()\n",
    "        # shown as: original token, dependency tag, head word, left dependents, right dependents\n",
    "        for token in parsedEx:\n",
    "            if token.dep_ in dp_pairs and not(token.orth_.lower() in stoplist) and not(token.head.orth_.lower() in stoplist):\n",
    "                first = porter.stem(lmtzr.lemmatize(token.orth_.lower()))\n",
    "                second = porter.stem(lmtzr.lemmatize(token.head.orth_.lower()))\n",
    "                keyword = \"_\".join(sorted([first, second]))\n",
    "                if freq_dict[keyword] > 3:\n",
    "                    test.append(keyword)\n",
    "    texts.append(test)\n",
    "dictionary = corpora.Dictionary(texts)\n",
    "corpus = [dictionary.doc2bow(text) for text in texts]"
   ]
  },
  {
   "cell_type": "code",
   "execution_count": 6,
   "metadata": {
    "collapsed": false
   },
   "outputs": [],
   "source": [
    "# wordnet_lemmatizer = WordNetLemmatizer()\n",
    "# texts = []\n",
    "# for document in documents:\n",
    "#     words = document.lower().replace(\".\",\" \").split()\n",
    "#     text_sample = []\n",
    "#     for word in words:\n",
    "#         try:\n",
    "#             if wordnet_lemmatizer.lemmatize(word) not in stoplist:\n",
    "#                 text_sample.append(wordnet_lemmatizer.lemmatize(word))\n",
    "#         except:\n",
    "#             pdb.set_trace()\n",
    "#     texts.append(text_sample)\n",
    "# # texts = [[wordnet_lemmatizer.lemmatize(word) for word in document.lower().split() if word not in stoplist] for document in documents]\n",
    "# dictionary = corpora.Dictionary(texts)\n",
    "# corpus = [dictionary.doc2bow(text) for text in texts]"
   ]
  },
  {
   "cell_type": "code",
   "execution_count": 7,
   "metadata": {
    "collapsed": false
   },
   "outputs": [],
   "source": [
    "num_topics = 60\n",
    "lda = ldamodel.LdaModel(corpus=corpus, id2word=dictionary, num_topics=num_topics, update_every=1, chunksize=10000, passes=10)"
   ]
  },
  {
   "cell_type": "code",
   "execution_count": 8,
   "metadata": {
    "collapsed": false,
    "scrolled": false
   },
   "outputs": [
    {
     "name": "stdout",
     "output_type": "stream",
     "text": [
      "Topic 0: (0, u'0.371*\"drive_game\" + 0.338*\"camp_tent\" + 0.054*\"northern_serengeti\" + 0.025*\"entir_trip\" + 0.021*\"day_drive\" + 0.020*\"drive_night\" + 0.017*\"provid_servic\" + 0.015*\"lot_see\" + 0.008*\"\\'s_easi\" + 0.008*\"fantast_time\"')\n",
      "Topic 1: (1, u'0.167*\"great_view\" + 0.067*\"cross_river\" + 0.036*\"camp_locat\" + 0.033*\"enjoy_time\" + 0.032*\"anim_nois\" + 0.027*\"drink_water\" + 0.024*\"buffet_dinner\" + 0.023*\"previou_review\" + 0.020*\"guid_shatri\" + 0.019*\"big_deal\"')\n",
      "Topic 2: (2, u'0.077*\"camp_great\" + 0.053*\"guid_safari\" + 0.050*\"amaz_time\" + 0.048*\"love_minut\" + 0.044*\"namiri_plain\" + 0.033*\"anim_spot\" + 0.025*\"beauti_room\" + 0.022*\"lodg_tree\" + 0.022*\"lake_lodg\" + 0.020*\"dunia_recommend\"')\n",
      "Topic 3: (3, u'0.192*\"experi_wonder\" + 0.111*\"place_recommend\" + 0.046*\"safari_walk\" + 0.040*\"camp_sabora\" + 0.039*\"beauti_set\" + 0.027*\"asilia_properti\" + 0.026*\"best_way\" + 0.025*\"insect_repel\" + 0.025*\"bed_larg\" + 0.024*\"bed_doubl\"')\n",
      "Topic 4: (4, u'0.117*\"last_night\" + 0.069*\"day_last\" + 0.067*\"lunch_pack\" + 0.066*\"ewanjan_lemala\" + 0.047*\"great_servic\" + 0.045*\"camp_lemala\" + 0.033*\"eco_lodg\" + 0.022*\"group_larg\" + 0.022*\"make_trip\" + 0.021*\"lion_see\"')\n",
      "Topic 5: (5, u'0.203*\"bucket_shower\" + 0.089*\"member_staff\" + 0.069*\"care_take\" + 0.051*\"camp_visit\" + 0.041*\"sever_time\" + 0.031*\"hot_tub\" + 0.029*\"faru_lodg\" + 0.024*\"excel_staff\" + 0.022*\"local_villag\" + 0.021*\"area_beauti\"')\n",
      "Topic 6: (6, u'0.347*\"hot_water\" + 0.117*\"bottl_water\" + 0.042*\";the_food\" + 0.041*\"lodg_main\" + 0.033*\"5_big\" + 0.026*\"bucket_list\" + 0.019*\"run_water\" + 0.017*\"big_thank\" + 0.017*\"trip_week\" + 0.015*\"chocol_hot\"')\n",
      "Topic 7: (7, u'0.126*\"camp_perman\" + 0.105*\"camp_pioneer\" + 0.099*\"camp_tent\" + 0.063*\"balloon_ride\" + 0.058*\"african_experi\" + 0.047*\"amaz_camp\" + 0.044*\"camp_differ\" + 0.038*\"endless_plain\" + 0.028*\"camp_semi\" + 0.023*\"camp_serengeti\"')\n",
      "Topic 8: (8, u'0.114*\"anim_wild\" + 0.077*\"dine_room\" + 0.057*\"fli_tsets\" + 0.051*\"overlook_serengeti\" + 0.030*\"safari_tour\" + 0.024*\"team_whole\" + 0.024*\"amaz_stay\" + 0.023*\"area_recept\" + 0.023*\"cold_towel\" + 0.023*\"larg_room\"')\n",
      "Topic 9: (9, u'0.149*\"great_migrat\" + 0.112*\"day_spent\" + 0.057*\"bush_tv\" + 0.047*\"lodg_sopa\" + 0.039*\"sunset_watch\" + 0.027*\"amaz_food\" + 0.026*\"experi_want\" + 0.024*\"book_safari\" + 0.020*\"first_thing\" + 0.019*\"go_look\"')\n",
      "Topic 10: (10, u'0.189*\"camp_recommend\" + 0.063*\"good_thing\" + 0.058*\"experi_lifetim\" + 0.049*\"say_thing\" + 0.044*\"recommend_stay\" + 0.044*\"enough_thing\" + 0.043*\"lodg_serena\" + 0.035*\"hear_sound\" + 0.032*\"camp_small\" + 0.029*\"fi_wi\"')\n",
      "Topic 11: (11, u'0.086*\"exceed_expect\" + 0.069*\"took_u\" + 0.042*\"bushtop_serengeti\" + 0.039*\"differ_experi\" + 0.038*\"great_staff\" + 0.037*\"properti_singita\" + 0.033*\"experi_special\" + 0.024*\"told_u\" + 0.023*\"air_strip\" + 0.018*\"custom_servic\"')\n",
      "Topic 12: (12, u'0.188*\"nation_park\" + 0.177*\"park_serengeti\" + 0.135*\"friendli_staff\" + 0.047*\"anniversari_celebr\" + 0.046*\"hotel_star\" + 0.041*\"\\'m_sure\" + 0.035*\"anniversari_wed\" + 0.031*\"comfort_tent\" + 0.023*\"go_make\" + 0.016*\"experi_wilder\"')\n",
      "Topic 13: (13, u'0.267*\"camp_sayari\" + 0.086*\"camp_fire\" + 0.059*\"day_first\" + 0.042*\"africa_east\" + 0.034*\"camp_kiota\" + 0.030*\"pool_privat\" + 0.029*\"experi_love\" + 0.025*\"good_locat\" + 0.023*\"elus_leopard\" + 0.021*\"northern_serengeti\"')\n",
      "Topic 14: (14, u'0.183*\"day_safari\" + 0.076*\"experi_incred\" + 0.043*\"black_rhino\" + 0.042*\"someth_special\" + 0.036*\"dinner_privat\" + 0.036*\"last_stop\" + 0.034*\"anim_watch\" + 0.033*\"lion_saw\" + 0.028*\"angel_manag\" + 0.023*\"good_view\"')\n",
      "Topic 15: (15, u'0.122*\"luxuri_tent\" + 0.115*\"enjoy_stay\" + 0.076*\"entir_staff\" + 0.066*\"class_first\" + 0.064*\"love_place\" + 0.040*\"buffalo_cape\" + 0.035*\"lodg_recommend\" + 0.034*\"food_servic\" + 0.026*\"drive_even\" + 0.022*\"u_welcom\"')\n",
      "Topic 16: (16, u'0.299*\"night_spent\" + 0.112*\"pool_swim\" + 0.075*\"area_common\" + 0.057*\"overlook_plain\" + 0.049*\"crater_lodg\" + 0.034*\"lodg_ngorongoro\" + 0.023*\"pool_use\" + 0.022*\"plain_serengeti\" + 0.022*\"go_watch\" + 0.022*\"compani_tour\"')\n",
      "Topic 17: (17, u'0.117*\"care_took\" + 0.090*\"migrat_see\" + 0.087*\"notch_top\" + 0.087*\"greet_u\" + 0.073*\"camp_kati\" + 0.038*\"stun_view\" + 0.037*\"camp_site\" + 0.033*\"last_year\" + 0.031*\"best_time\" + 0.025*\"call_wake\"')\n",
      "Topic 18: (18, u'0.134*\"first_time\" + 0.054*\"warm_welcom\" + 0.045*\"bush_dinner\" + 0.042*\"door_slide\" + 0.040*\"anim_view\" + 0.038*\"hotel_luxuri\" + 0.033*\"hot_towel\" + 0.031*\"lodg_visit\" + 0.031*\"area_larg\" + 0.028*\"door_glass\"')\n",
      "Topic 19: (19, u'0.086*\"lodg_safari\" + 0.076*\"love_stay\" + 0.076*\"day_next\" + 0.051*\"nice_touch\" + 0.034*\"feel_safe\" + 0.033*\"best_hotel\" + 0.030*\"lodg_season\" + 0.026*\"come_true\" + 0.025*\"guid_privat\" + 0.022*\"mani_thank\"')\n",
      "Topic 20: (20, u'0.133*\"great_locat\" + 0.077*\"drive_long\" + 0.051*\"beauti_locat\" + 0.034*\"tse_tse\" + 0.034*\"lodg_mani\" + 0.025*\"mara_serengeti\" + 0.024*\"place_right\" + 0.023*\"recent_trip\" + 0.021*\"drive_take\" + 0.021*\"food_local\"')\n",
      "Topic 21: (21, u'0.128*\"box_lunch\" + 0.067*\"power_solar\" + 0.057*\"excel_food\" + 0.036*\"set_tabl\" + 0.033*\"day_spend\" + 0.029*\"camp_sister\" + 0.029*\"live_room\" + 0.028*\"buffalo_water\" + 0.027*\"canva_wall\" + 0.026*\"trip_whole\"')\n",
      "Topic 22: (22, u'0.108*\"best_place\" + 0.080*\"infin_pool\" + 0.052*\"everyth_saw\" + 0.052*\"camp_kimondo\" + 0.050*\"hole_water\" + 0.048*\"view_wildlif\" + 0.043*\"night_second\" + 0.033*\"come_drink\" + 0.027*\"fantast_locat\" + 0.026*\"drove_u\"')\n",
      "Topic 23: (23, u'0.091*\"cross_saw\" + 0.071*\"migrat_wildebeest\" + 0.065*\"cross_wildebeest\" + 0.065*\"beauti_place\" + 0.047*\"incred_view\" + 0.040*\"cross_river\" + 0.036*\"season_serengeti\" + 0.034*\"ask_u\" + 0.032*\"experi_magic\" + 0.031*\"comfort_creatur\"')\n",
      "Topic 24: (24, u'0.203*\"mara_river\" + 0.076*\"place_wonder\" + 0.074*\"made_sure\" + 0.056*\"best_camp\" + 0.055*\"experi_serengeti\" + 0.040*\"run_water\" + 0.032*\"cross_river\" + 0.030*\"giraff_zebra\" + 0.023*\"overlook_pool\" + 0.023*\"safari_serengeti\"')\n",
      "Topic 25: (25, u'0.110*\"felt_safe\" + 0.078*\"camp_wonder\" + 0.076*\"kati_kati\" + 0.049*\"feel_special\" + 0.048*\"camp_kusini\" + 0.043*\"lake_manyara\" + 0.042*\"lion_male\" + 0.034*\"guid_tour\" + 0.029*\"experi_outstand\" + 0.023*\"place_visit\"')\n",
      "Topic 26: (26, u'0.251*\"camp_dunia\" + 0.069*\"best_part\" + 0.061*\"experi_fantast\" + 0.035*\"take_u\" + 0.033*\"good_servic\" + 0.027*\"perfect_stay\" + 0.021*\"cool_towel\" + 0.020*\"love_shower\" + 0.020*\"night_time\" + 0.020*\"memor_stay\"')\n",
      "Topic 27: (27, u'0.176*\"experi_great\" + 0.046*\"low_season\" + 0.044*\"hotel_room\" + 0.031*\"perfect_way\" + 0.031*\"birthday_celebr\" + 0.028*\"bathroom_larg\" + 0.028*\"first_safari\" + 0.028*\"birthday_cake\" + 0.025*\"gate_ikoma\" + 0.024*\"agent_travel\"')\n",
      "Topic 28: (28, u'0.208*\"make_sure\" + 0.062*\"much_troubl\" + 0.051*\"make_special\" + 0.041*\"night_safari\" + 0.037*\"grumeti_river\" + 0.028*\"open_vehicl\" + 0.028*\"great_way\" + 0.023*\"corridor_western\" + 0.019*\"answer_question\" + 0.019*\"close_get\"')\n",
      "Topic 29: (29, u'0.232*\"experi_safari\" + 0.084*\"spend_time\" + 0.078*\"area_main\" + 0.046*\"hear_roar\" + 0.036*\"experi_provid\" + 0.026*\"bathroom_full\" + 0.025*\"afternoon_late\" + 0.024*\"meet_peopl\" + 0.023*\"plung_pool\" + 0.022*\"best_thing\"')\n",
      "Topic 30: (30, u'0.132*\"day_long\" + 0.046*\"experi_overal\" + 0.043*\"africa_south\" + 0.037*\"camp_tortili\" + 0.028*\"nice_shower\" + 0.026*\"camp_fantast\" + 0.025*\"towel_warm\" + 0.024*\"fresh_juic\" + 0.023*\"camp_last\" + 0.021*\"littl_touch\"')\n",
      "Topic 31: (31, u'0.105*\"area_dine\" + 0.103*\"anim_see\" + 0.048*\"masai_warrior\" + 0.040*\"kubu_kubu\" + 0.036*\"cold_drink\" + 0.030*\"grumeti_reserv\" + 0.029*\"fire_pit\" + 0.026*\"luxuri_room\" + 0.025*\"commun_local\" + 0.024*\"towel_wet\"')\n",
      "Topic 32: (32, u'0.145*\"camp_manag\" + 0.116*\"flush_toilet\" + 0.113*\"hot_shower\" + 0.060*\"experi_memor\" + 0.039*\"lion_roar\" + 0.032*\"area_seronera\" + 0.027*\"join_u\" + 0.024*\"guid_knowledg\" + 0.024*\"come_see\" + 0.023*\"treat_u\"')\n",
      "Topic 33: (33, u'0.084*\"locat_remot\" + 0.077*\"african_safari\" + 0.054*\"camp_migrat\" + 0.031*\"made_memor\" + 0.030*\"center_discoveri\" + 0.027*\"maasai_warrior\" + 0.026*\"butler_person\" + 0.025*\"great_hotel\" + 0.025*\"properti_season\" + 0.024*\"room_servic\"')\n",
      "Topic 34: (34, u'0.093*\"amaz_place\" + 0.070*\"experi_unforgett\" + 0.068*\"camp_love\" + 0.065*\"life_wild\" + 0.043*\"best_view\" + 0.039*\"high_standard\" + 0.030*\"see_wildlif\" + 0.030*\"beauti_lodg\" + 0.029*\"experi_made\" + 0.025*\"experi_luxuri\"')\n",
      "Topic 35: (35, u'0.135*\"outdoor_shower\" + 0.130*\"food_great\" + 0.065*\"buffet_style\" + 0.054*\"air_balloon\" + 0.047*\"balloon_hot\" + 0.043*\"breathtak_view\" + 0.039*\"camp_mani\" + 0.036*\"dri_season\" + 0.034*\"raini_season\" + 0.024*\"privat_shower\"')\n",
      "Topic 36: (36, u'0.130*\"great_place\" + 0.103*\"central_serengeti\" + 0.058*\"night_spend\" + 0.033*\"bush_experi\" + 0.032*\"mention_special\" + 0.029*\"mara_masai\" + 0.029*\"camp_mapito\" + 0.022*\"amaz_trip\" + 0.020*\"explor_serengeti\" + 0.020*\"dinner_tabl\"')\n",
      "Topic 37: (37, u'0.097*\"earli_morn\" + 0.073*\"beauti_view\" + 0.054*\"plan_trip\" + 0.052*\"bed_king\" + 0.050*\"bed_size\" + 0.038*\"drive_morn\" + 0.038*\"anim_find\" + 0.032*\"provid_u\" + 0.030*\"attent_staff\" + 0.029*\"drive_minut\"')\n",
      "Topic 38: (38, u'0.152*\"lodg_simba\" + 0.128*\"lodg_serengeti\" + 0.123*\"camp_safari\" + 0.085*\"lodg_tent\" + 0.067*\"room_tent\" + 0.054*\"time_wonder\" + 0.025*\"bed_comfi\" + 0.024*\"afternoon_game\" + 0.019*\"fresh_fruit\" + 0.018*\"host_wonder\"')\n",
      "Topic 39: (39, u'0.117*\"amaz_view\" + 0.092*\"food_good\" + 0.082*\"excel_servic\" + 0.063*\";the_tent\" + 0.040*\"experi_share\" + 0.031*\"fantast_view\" + 0.026*\"bed_poster\" + 0.022*\"area_tent\" + 0.021*\"food_view\" + 0.020*\"entir_stay\"')\n",
      "Topic 40: (40, u'0.067*\"nice_place\" + 0.039*\"camp_favorit\" + 0.037*\"experi_true\" + 0.031*\"differ_place\" + 0.029*\"keep_u\" + 0.027*\"cours_dinner\" + 0.026*\"choic_great\" + 0.025*\"stay_unforgett\" + 0.023*\"next_year\" + 0.023*\"\\'s_dark\"')\n",
      "Topic 41: (41, u'0.181*\"amaz_experi\" + 0.139*\"bed_comfort\" + 0.084*\"make_stay\" + 0.056*\"camp_staff\" + 0.034*\"experi_make\" + 0.027*\"experi_wildlif\" + 0.026*\"larg_tent\" + 0.023*\"life_time\" + 0.022*\"anim_sight\" + 0.015*\"extra_special\"')\n",
      "Topic 42: (42, u'0.109*\"care_taken\" + 0.093*\"camp_run\" + 0.078*\"safari_vehicl\" + 0.071*\"morn_next\" + 0.057*\"magic_place\" + 0.035*\"cruiser_land\" + 0.034*\"coffe_fresh\" + 0.031*\"food_nice\" + 0.031*\"long_way\" + 0.027*\"camp_ewanjan\"')\n",
      "Topic 43: (43, u'0.068*\"dine_tent\" + 0.055*\"enough_say\" + 0.046*\"accommod_tent\" + 0.045*\"serengeti_southern\" + 0.041*\"comfort_feel\" + 0.030*\"first_trip\" + 0.028*\"nice_view\" + 0.025*\"dirt_road\" + 0.024*\"camp_stay\" + 0.022*\"care_good\"')\n",
      "Topic 44: (44, u'0.138*\"camp_luxuri\" + 0.071*\"area_pool\" + 0.050*\"buffalo_camp\" + 0.041*\"hotel_recommend\" + 0.037*\"camp_first\" + 0.036*\"take_time\" + 0.029*\"guard_masai\" + 0.028*\"bath_tub\" + 0.027*\"camp_set\" + 0.027*\"experi_recommend\"')\n",
      "Topic 45: (45, u'0.085*\"mosquito_net\" + 0.082*\"night_stay\" + 0.069*\"serengeti_visit\" + 0.038*\"amaz_staff\" + 0.036*\"first_stop\" + 0.034*\"eleph_giraff\" + 0.029*\"spectacular_view\" + 0.025*\"area_commun\" + 0.025*\"camp_olakira\" + 0.024*\"amaz_job\"')\n",
      "Topic 46: (46, u'0.081*\"made_special\" + 0.075*\"camp_chaka\" + 0.074*\"anim_hear\" + 0.038*\"heard_lion\" + 0.036*\"northern_tanzania\" + 0.034*\"africa_safari\" + 0.033*\"shower_warm\" + 0.032*\"commun_dinner\" + 0.031*\"camp_nice\" + 0.026*\"noth_short\"')\n",
      "Topic 47: (47, u'0.180*\"game_view\" + 0.090*\"day_full\" + 0.081*\"place_special\" + 0.057*\"hear_lion\" + 0.044*\"authent_experi\" + 0.035*\"comfort_make\" + 0.025*\"african_bush\" + 0.024*\"morn_safari\" + 0.023*\"left_u\" + 0.019*\"area_conserv\"')\n",
      "Topic 48: (48, u'0.140*\"first_night\" + 0.106*\"best_experi\" + 0.062*\"camp_experi\" + 0.062*\"shower_take\" + 0.044*\"experi_tent\" + 0.042*\"lemala_mara\" + 0.039*\"enjoy_view\" + 0.034*\"meal_prepar\" + 0.023*\"good_place\" + 0.022*\"main_road\"')\n",
      "Topic 49: (49, u'0.094*\"asilia_camp\" + 0.061*\"best_food\" + 0.056*\"dinner_drink\" + 0.053*\"drive_safari\" + 0.046*\"build_main\" + 0.041*\"day_second\" + 0.041*\"drink_pre\" + 0.035*\"laundri_servic\" + 0.034*\"air_condit\" + 0.029*\"camp_grumeti\"')\n",
      "Topic 50: (50, u'0.097*\"safari_trip\" + 0.080*\"camp_serengeti\" + 0.064*\"cross_see\" + 0.062*\"anim_saw\" + 0.051*\"special_thank\" + 0.037*\"area_sit\" + 0.036*\"big_cat\" + 0.034*\"day_trip\" + 0.031*\"bit_littl\" + 0.028*\"drive_hour\"')\n",
      "Topic 51: (51, u'0.075*\"stay_wish\" + 0.060*\"crater_ngorongoro\" + 0.054*\"safari_week\" + 0.053*\"next_time\" + 0.040*\"warm_water\" + 0.029*\"sunris_watch\" + 0.029*\"anyon_look\" + 0.028*\"made_trip\" + 0.027*\"meal_time\" + 0.025*\"area_bar\"')\n",
      "Topic 52: (52, u'0.153*\"feel_made\" + 0.140*\"feel_make\" + 0.075*\"feel_welcom\" + 0.075*\"make_went\" + 0.061*\"plain_serengeti\" + 0.051*\"faru_faru\" + 0.037*\"area_bathroom\" + 0.033*\"gift_shop\" + 0.024*\"make_memor\" + 0.022*\"area_separ\"')\n",
      "Topic 53: (53, u'0.096*\"anim_mani\" + 0.086*\"experi_uniqu\" + 0.043*\"enjoy_experi\" + 0.038*\"best_lodg\" + 0.038*\"help_u\" + 0.033*\"great_job\" + 0.026*\";the_staff\" + 0.024*\"enjoy_meal\" + 0.023*\"lot_saw\" + 0.022*\"see_walk\"')\n",
      "Topic 54: (54, u'0.145*\"camp_mobil\" + 0.032*\"experi_first\" + 0.031*\"shower_water\" + 0.025*\"awesom_experi\" + 0.024*\"area_remot\" + 0.024*\"kept_u\" + 0.023*\"look_see\" + 0.023*\"famili_style\" + 0.022*\"everyth_see\" + 0.021*\"experi_good\"')\n",
      "Topic 55: (55, u'0.114*\"great_time\" + 0.078*\"great_stay\" + 0.045*\"shower_toilet\" + 0.038*\"sit_watch\" + 0.025*\"honeymoon_safari\" + 0.025*\"review_see\" + 0.024*\"front_porch\" + 0.024*\"set_tone\" + 0.023*\"properti_recommend\" + 0.021*\"nice_pool\"')\n",
      "Topic 56: (56, u'0.092*\"big_five\" + 0.069*\"perfect_place\" + 0.057*\"bush_camp\" + 0.055*\"hill_kuria\" + 0.042*\"northern_part\" + 0.036*\"fun_much\" + 0.030*\"cub_lion\" + 0.024*\"leopard_see\" + 0.023*\"hill_lemala\" + 0.020*\"room_shower\"')\n",
      "Topic 57: (57, u'0.165*\"hole_water\" + 0.071*\"stay_wonder\" + 0.049*\"area_loung\" + 0.045*\"beauti_camp\" + 0.038*\"share_stori\" + 0.038*\"lunch_picnic\" + 0.032*\"staff_wonder\" + 0.030*\"high_qualiti\" + 0.027*\"eleph_watch\" + 0.026*\"compani_safari\"')\n",
      "Topic 58: (58, u'0.056*\"delici_food\" + 0.046*\"view_wonder\" + 0.041*\"serv_u\" + 0.036*\"ask_like\" + 0.033*\"outsid_shower\" + 0.026*\"perman_tent\" + 0.026*\"floor_hardwood\" + 0.024*\"met_u\" + 0.024*\"floor_wooden\" + 0.022*\"breakfast_picnic\"')\n",
      "Topic 59: (59, u'0.128*\"main_tent\" + 0.092*\"made_stay\" + 0.041*\"escort_u\" + 0.035*\"amaz_locat\" + 0.035*\"charg_station\" + 0.034*\"open_plain\" + 0.031*\"talki_walki\" + 0.026*\"area_restaur\" + 0.026*\"beauti_serengeti\" + 0.024*\"big_tabl\"')\n"
     ]
    }
   ],
   "source": [
    "for topic_num in xrange(num_topics):\n",
    "    print \"Topic \" + str(topic_num) + \": \" + str(lda.print_topics(num_topics)[topic_num])"
   ]
  },
  {
   "cell_type": "code",
   "execution_count": 9,
   "metadata": {
    "collapsed": false
   },
   "outputs": [],
   "source": [
    "probs = lda[corpus]"
   ]
  },
  {
   "cell_type": "code",
   "execution_count": 10,
   "metadata": {
    "collapsed": false,
    "scrolled": false
   },
   "outputs": [],
   "source": [
    "with open('topic_modelling_prob.txt','w') as f:\n",
    "    for i in xrange(len(corpus)):\n",
    "        prob_dict = dict(probs[i])\n",
    "        for j in xrange(num_topics):\n",
    "            if j in prob_dict.keys():\n",
    "                print >> f,prob_dict[j],'\\t',\n",
    "            else:\n",
    "                print >> f, '0','\\t',\n",
    "        print >> f,'\\t'\n",
    "f.close()"
   ]
  },
  {
   "cell_type": "code",
   "execution_count": null,
   "metadata": {
    "collapsed": false
   },
   "outputs": [],
   "source": [
    "texts_ = [\"Im so happy when i have all GE production in my huose.\"]\n",
    "test_ = []\n",
    "try:\n",
    "    parsedEx = parser(unicode(texts_[0]))\n",
    "except:\n",
    "    pdb.set_trace()\n",
    "        # shown as: original token, dependency tag, head word, left dependents, right dependents\n",
    "for token in parsedEx:\n",
    "    if token.dep_ in dp_pairs and not(token.orth_.lower() in stoplist) and not(token.head.orth_.lower() in stoplist):\n",
    "        first = porter.stem(lmtzr.lemmatize(token.orth_.lower()))\n",
    "        second = porter.stem(lmtzr.lemmatize(token.head.orth_.lower()))\n",
    "        keyword = \"_\".join(sorted([first, second]))\n",
    "        if freq_dict[keyword] > 1:\n",
    "            test_.append(keyword)\n",
    "test_\n",
    "corpus = [dictionary.doc2bow([sample]) for sample in test_]"
   ]
  },
  {
   "cell_type": "code",
   "execution_count": 36,
   "metadata": {
    "collapsed": false
   },
   "outputs": [
    {
     "name": "stdout",
     "output_type": "stream",
     "text": [
      "(0, u'0.371*\"drive_game\" + 0.338*\"camp_tent\" + 0.054*\"northern_serengeti\" + 0.025*\"entir_trip\" + 0.021*\"day_drive\" + 0.020*\"drive_night\" + 0.017*\"provid_servic\" + 0.015*\"lot_see\" + 0.008*\"\\'s_easi\" + 0.008*\"fantast_time\"')\n",
      "(3, u'0.192*\"experi_wonder\" + 0.111*\"place_recommend\" + 0.046*\"safari_walk\" + 0.040*\"camp_sabora\" + 0.039*\"beauti_set\" + 0.027*\"asilia_properti\" + 0.026*\"best_way\" + 0.025*\"insect_repel\" + 0.025*\"bed_larg\" + 0.024*\"bed_doubl\"')\n",
      "(6, u'0.347*\"hot_water\" + 0.117*\"bottl_water\" + 0.042*\";the_food\" + 0.041*\"lodg_main\" + 0.033*\"5_big\" + 0.026*\"bucket_list\" + 0.019*\"run_water\" + 0.017*\"big_thank\" + 0.017*\"trip_week\" + 0.015*\"chocol_hot\"')\n",
      "(12, u'0.188*\"nation_park\" + 0.177*\"park_serengeti\" + 0.135*\"friendli_staff\" + 0.047*\"anniversari_celebr\" + 0.046*\"hotel_star\" + 0.041*\"\\'m_sure\" + 0.035*\"anniversari_wed\" + 0.031*\"comfort_tent\" + 0.023*\"go_make\" + 0.016*\"experi_wilder\"')\n",
      "(13, u'0.267*\"camp_sayari\" + 0.086*\"camp_fire\" + 0.059*\"day_first\" + 0.042*\"africa_east\" + 0.034*\"camp_kiota\" + 0.030*\"pool_privat\" + 0.029*\"experi_love\" + 0.025*\"good_locat\" + 0.023*\"elus_leopard\" + 0.021*\"northern_serengeti\"')\n",
      "(16, u'0.299*\"night_spent\" + 0.112*\"pool_swim\" + 0.075*\"area_common\" + 0.057*\"overlook_plain\" + 0.049*\"crater_lodg\" + 0.034*\"lodg_ngorongoro\" + 0.023*\"pool_use\" + 0.022*\"plain_serengeti\" + 0.022*\"go_watch\" + 0.022*\"compani_tour\"')\n",
      "(26, u'0.251*\"camp_dunia\" + 0.069*\"best_part\" + 0.061*\"experi_fantast\" + 0.035*\"take_u\" + 0.033*\"good_servic\" + 0.027*\"perfect_stay\" + 0.021*\"cool_towel\" + 0.020*\"love_shower\" + 0.020*\"night_time\" + 0.020*\"memor_stay\"')\n",
      "(29, u'0.232*\"experi_safari\" + 0.084*\"spend_time\" + 0.078*\"area_main\" + 0.046*\"hear_roar\" + 0.036*\"experi_provid\" + 0.026*\"bathroom_full\" + 0.025*\"afternoon_late\" + 0.024*\"meet_peopl\" + 0.023*\"plung_pool\" + 0.022*\"best_thing\"')\n",
      "(41, u'0.181*\"amaz_experi\" + 0.139*\"bed_comfort\" + 0.084*\"make_stay\" + 0.056*\"camp_staff\" + 0.034*\"experi_make\" + 0.027*\"experi_wildlif\" + 0.026*\"larg_tent\" + 0.023*\"life_time\" + 0.022*\"anim_sight\" + 0.015*\"extra_special\"')\n"
     ]
    }
   ],
   "source": [
    "# for topic_num in xrange(num_topics):\n",
    "#     print \"Topic \" + str(topic_num) + \": \" + str(lda.print_topics(num_topics)[topic_num])\n",
    "import re\n",
    "for topic_num in xrange(num_topics):\n",
    "    topic_probs = re.split('[*+]',lda.show_topics(num_topics)[topic_num][1])\n",
    "    sum_prob = float(topic_probs[0]) + float(topic_probs[2])\n",
    "    if sum_prob > 0.3:\n",
    "        print lda.show_topics(num_topics)[topic_num]\n",
    "# lda.show_topics(num_topics)[0][1].split(\"*\",\"+\")"
   ]
  },
  {
   "cell_type": "code",
   "execution_count": null,
   "metadata": {
    "collapsed": true
   },
   "outputs": [],
   "source": []
  },
  {
   "cell_type": "code",
   "execution_count": null,
   "metadata": {
    "collapsed": true
   },
   "outputs": [],
   "source": []
  }
 ],
 "metadata": {
  "kernelspec": {
   "display_name": "Python 2",
   "language": "python",
   "name": "python2"
  },
  "language_info": {
   "codemirror_mode": {
    "name": "ipython",
    "version": 2
   },
   "file_extension": ".py",
   "mimetype": "text/x-python",
   "name": "python",
   "nbconvert_exporter": "python",
   "pygments_lexer": "ipython2",
   "version": "2.7.12"
  }
 },
 "nbformat": 4,
 "nbformat_minor": 2
}
