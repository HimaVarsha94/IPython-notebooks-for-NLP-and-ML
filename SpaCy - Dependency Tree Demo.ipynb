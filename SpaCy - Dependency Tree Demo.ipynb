{
 "cells": [
  {
   "cell_type": "code",
   "execution_count": 1,
   "metadata": {
    "collapsed": true
   },
   "outputs": [],
   "source": [
    "import spacy"
   ]
  },
  {
   "cell_type": "code",
   "execution_count": 2,
   "metadata": {
    "collapsed": true
   },
   "outputs": [],
   "source": [
    "from nltk import Tree"
   ]
  },
  {
   "cell_type": "code",
   "execution_count": 4,
   "metadata": {
    "collapsed": false
   },
   "outputs": [
    {
     "name": "stdout",
     "output_type": "stream",
     "text": [
      "                                        stayed                                                             \n",
      "  ________________________________________|___________________________________________                      \n",
      " |   |   |        |                at                  |                              |                    \n",
      " |   |   |        |                |                   |                              |                     \n",
      " |   |   |        |              number                |                             was                   \n",
      " |   |   |        |            ____|______             |                      ________|__________           \n",
      " |   |   |        on          |           of       throughout                |        |         pick       \n",
      " |   |   |        |           |           |            |                     |        |       ___|_____     \n",
      " |   |   |      safari        |         camps        kenya                   |        |      |         of  \n",
      " |   |   |    ____|______     |           |      ______|_________            |        |      |         |    \n",
      " |   |   |   |    |     week  |          end    |             tanzania       |        |      |       litter\n",
      " |   |   |   |    |      |    |           |     |       _________|______     |        |      |         |    \n",
      " ,   we  .   a  recent three  a          high  and     ,               and sayari certainly the       the  \n",
      "\n",
      "                                      watching                                            \n",
      "       __________________________________|_________                                        \n",
      "      |        |                               facilities                                 \n",
      "      |        |     ______________________________|_________                              \n",
      "      |        |    |    |                                location                        \n",
      "      |        |    |    |       ____________________________|________                     \n",
      "      |        |    |    |      |        |                          dining                \n",
      "      |        |    |    |      |        |          __________________|______              \n",
      "      |        |    |    |      |        |         |         |             staff          \n",
      "      |        |    |    |      |        |         |         |         ______|_______      \n",
      "      |        |    |    |      |        |         |         |        |      |      game  \n",
      "      |        |    |    |      |        |         |         |        |      |       |     \n",
      "opportunities  .  great  ,  beautiful    ,      pleasant     ,     amiable  and  wonderful\n",
      "\n",
      "          ask         \n",
      "   ________|_______    \n",
      "  |    |   |   |  what\n",
      "  |    |   |   |   |   \n",
      "could you for  ?  more\n",
      "\n"
     ]
    },
    {
     "data": {
      "text/plain": [
       "[None, None, None]"
      ]
     },
     "execution_count": 4,
     "metadata": {},
     "output_type": "execute_result"
    }
   ],
   "source": [
    "en_nlp = spacy.load('en')\n",
    "\n",
    "str1 = unicode(\"on a recent three week safari, we stayed at a number of high end camps throughout kenya and tanzania, and sayari was certainly the pick of the litter. great facilities, beautiful location, pleasant dining, amiable staff and wonderful game watching opportunities. what more could you ask for?\")\n",
    "doc = en_nlp(str1)\n",
    "\n",
    "def to_nltk_tree(node):\n",
    "    if node.n_lefts + node.n_rights > 0:\n",
    "        return Tree(node.orth_, [to_nltk_tree(child) for child in node.children])\n",
    "    else:\n",
    "        return node.orth_\n",
    "\n",
    "\n",
    "[to_nltk_tree(sent.root).pretty_print() for sent in doc.sents]"
   ]
  },
  {
   "cell_type": "code",
   "execution_count": null,
   "metadata": {
    "collapsed": true
   },
   "outputs": [],
   "source": []
  }
 ],
 "metadata": {
  "kernelspec": {
   "display_name": "Python 2",
   "language": "python",
   "name": "python2"
  },
  "language_info": {
   "codemirror_mode": {
    "name": "ipython",
    "version": 2
   },
   "file_extension": ".py",
   "mimetype": "text/x-python",
   "name": "python",
   "nbconvert_exporter": "python",
   "pygments_lexer": "ipython2",
   "version": "2.7.12"
  }
 },
 "nbformat": 4,
 "nbformat_minor": 2
}
